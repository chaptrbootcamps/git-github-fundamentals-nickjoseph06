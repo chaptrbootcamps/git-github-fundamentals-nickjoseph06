{
 "metadata": {
  "language_info": {
   "codemirror_mode": {
    "name": "ipython",
    "version": 3
   },
   "file_extension": ".py",
   "mimetype": "text/x-python",
   "name": "python",
   "nbconvert_exporter": "python",
   "pygments_lexer": "ipython3",
   "version": "3.9.2"
  },
  "orig_nbformat": 2,
  "kernelspec": {
   "name": "python392jvsc74a57bd0798261a0aaca51317e583b5e81f7b477ed641b7a40659b07f202a935faf18efc",
   "display_name": "Python 3.9.2 64-bit"
  },
  "metadata": {
   "interpreter": {
    "hash": "798261a0aaca51317e583b5e81f7b477ed641b7a40659b07f202a935faf18efc"
   }
  }
 },
 "nbformat": 4,
 "nbformat_minor": 2,
 "cells": [
  {
   "cell_type": "code",
   "execution_count": 21,
   "metadata": {},
   "outputs": [
    {
     "output_type": "stream",
     "name": "stdout",
     "text": [
      "               1 \n             1      1 \n           1      2      1 \n         1      3      3      1 \n"
     ]
    }
   ],
   "source": [
    "##creating pascal triangle\n",
    "n=int(input('enter number of rows: '))##number of rows in the pascal triangle\n",
    "a=[]\n",
    "for i in range(n):\n",
    "    a.append([])\n",
    "    a[i].append(1)\n",
    "\n",
    "    for j in range(1,i):\n",
    "        a[i].append(a[i-1][j-1]+a[i-1][j])\n",
    "    if (n!=0):\n",
    "        a[i].append(1)\n",
    "for i in range(n):\n",
    "    print('  '*(n-i),end=\"  \",sep='  ')\n",
    "    for j in range (0,i +1):\n",
    "        print('{0:6}'.format(a[i][j]),end=' ',sep=' ')\n",
    "    print()"
   ]
  },
  {
   "cell_type": "code",
   "execution_count": 30,
   "metadata": {},
   "outputs": [
    {
     "output_type": "stream",
     "name": "stdout",
     "text": [
      " _  \n"
     ]
    },
    {
     "output_type": "error",
     "ename": "NameError",
     "evalue": "name 'guesses' is not defined",
     "traceback": [
      "\u001b[1;31m---------------------------------------------------------------------------\u001b[0m",
      "\u001b[1;31mNameError\u001b[0m                                 Traceback (most recent call last)",
      "\u001b[1;32m<ipython-input-30-dc392e9fc7da>\u001b[0m in \u001b[0;36m<module>\u001b[1;34m\u001b[0m\n\u001b[0;32m     15\u001b[0m \u001b[1;33m\u001b[0m\u001b[0m\n\u001b[0;32m     16\u001b[0m         \u001b[0mguess\u001b[0m\u001b[1;33m=\u001b[0m\u001b[0minput\u001b[0m\u001b[1;33m(\u001b[0m\u001b[1;34mf'allowed errors left{allowed_errors},next guess: '\u001b[0m\u001b[1;33m)\u001b[0m\u001b[1;33m\u001b[0m\u001b[1;33m\u001b[0m\u001b[0m\n\u001b[1;32m---> 17\u001b[1;33m         \u001b[0mguesses\u001b[0m\u001b[1;33m.\u001b[0m\u001b[0mappend\u001b[0m\u001b[1;33m(\u001b[0m\u001b[0mguess\u001b[0m\u001b[1;33m.\u001b[0m\u001b[0mlower\u001b[0m\u001b[1;33m(\u001b[0m\u001b[1;33m)\u001b[0m\u001b[1;33m)\u001b[0m\u001b[1;33m\u001b[0m\u001b[1;33m\u001b[0m\u001b[0m\n\u001b[0m\u001b[0;32m     18\u001b[0m         \u001b[1;32mif\u001b[0m \u001b[0mguess\u001b[0m\u001b[1;33m.\u001b[0m\u001b[0mlower\u001b[0m\u001b[1;33m(\u001b[0m\u001b[1;33m)\u001b[0m \u001b[1;32mnot\u001b[0m \u001b[1;32min\u001b[0m \u001b[0msecret_word\u001b[0m\u001b[1;33m.\u001b[0m\u001b[0mlower\u001b[0m\u001b[1;33m(\u001b[0m\u001b[1;33m)\u001b[0m\u001b[1;33m:\u001b[0m\u001b[1;33m\u001b[0m\u001b[1;33m\u001b[0m\u001b[0m\n\u001b[0;32m     19\u001b[0m             \u001b[0mallowed_errors\u001b[0m\u001b[1;33m=\u001b[0m\u001b[1;36m1\u001b[0m\u001b[1;33m\u001b[0m\u001b[1;33m\u001b[0m\u001b[0m\n",
      "\u001b[1;31mNameError\u001b[0m: name 'guesses' is not defined"
     ]
    }
   ],
   "source": [
    "##HANGMAN GAME\n",
    "secret_word='mountain'\n",
    "allowed_errors=9##to at least get some of the letters\n",
    "guesses=[]\n",
    "done=False\n",
    "\n",
    "while not done:\n",
    "    for letter in secret_word:\n",
    "        if letter.lower() in guesses:\n",
    "           print(letter,end=' ')\n",
    "        else:\n",
    "            print('_',end=' ')\n",
    "        print(' ')\n",
    "        \n",
    "\n",
    "        guess=input(f'allowed errors left{allowed_errors},next guess: ')\n",
    "        guesses.append(guess.lower())\n",
    "        if guess.lower() not in secret_word.lower():\n",
    "            allowed_errors=1\n",
    "            if allowed_errors==0:\n",
    "                break\n",
    "        done=True\n",
    "        for letter in secret_word:\n",
    "            if letter.lower() not in guesses:\n",
    "                done=False\n",
    "        if done:\n",
    "            print(f'Great!! you got it, the word was{secret_word}!')\n",
    "        else:\n",
    "                print(f'wrong!!!game over!! the word was {secret_word}!')\n",
    "                \n",
    "\n"
   ]
  },
  {
   "cell_type": "code",
   "execution_count": null,
   "metadata": {},
   "outputs": [],
   "source": []
  },
  {
   "cell_type": "code",
   "execution_count": null,
   "metadata": {},
   "outputs": [],
   "source": []
  }
 ]
}