{
 "metadata": {
  "language_info": {
   "codemirror_mode": {
    "name": "ipython",
    "version": 3
   },
   "file_extension": ".py",
   "mimetype": "text/x-python",
   "name": "python",
   "nbconvert_exporter": "python",
   "pygments_lexer": "ipython3",
   "version": "3.9.2"
  },
  "orig_nbformat": 2,
  "kernelspec": {
   "name": "python392jvsc74a57bd0798261a0aaca51317e583b5e81f7b477ed641b7a40659b07f202a935faf18efc",
   "display_name": "Python 3.9.2 64-bit"
  },
  "metadata": {
   "interpreter": {
    "hash": "798261a0aaca51317e583b5e81f7b477ed641b7a40659b07f202a935faf18efc"
   }
  }
 },
 "nbformat": 4,
 "nbformat_minor": 2,
 "cells": [
  {
   "cell_type": "code",
   "execution_count": 2,
   "metadata": {},
   "outputs": [
    {
     "output_type": "stream",
     "name": "stderr",
     "text": [
      "\nKeyboardInterrupt\n\n"
     ]
    }
   ],
   "source": [
    "## Password generation\n",
    "secret_password=\"nick001\"#this a secrete password\n",
    "password_count=0  ##range starts from 0-3\n",
    "password_limit=3\n",
    "while password_count<password_limit: # in this means that the number of inputs should be less than the limit\n",
    "    password=input('password_limit')\n",
    "    password_count+=1\n",
    "    if password == secret_password:\n",
    "        print('Access granted')\n",
    "        break\n",
    "else:\n",
    "    print(\"wrong password!\")\n"
   ]
  },
  {
   "cell_type": "code",
   "execution_count": 7,
   "metadata": {},
   "outputs": [
    {
     "output_type": "error",
     "ename": "NameError",
     "evalue": "name 'imput' is not defined",
     "traceback": [
      "\u001b[1;31m---------------------------------------------------------------------------\u001b[0m",
      "\u001b[1;31mNameError\u001b[0m                                 Traceback (most recent call last)",
      "\u001b[1;32m<ipython-input-7-eb493f356502>\u001b[0m in \u001b[0;36m<module>\u001b[1;34m\u001b[0m\n\u001b[0;32m      3\u001b[0m \u001b[0mflag\u001b[0m\u001b[1;33m=\u001b[0m\u001b[1;32mTrue\u001b[0m\u001b[1;33m\u001b[0m\u001b[1;33m\u001b[0m\u001b[0m\n\u001b[0;32m      4\u001b[0m \u001b[1;32mwhile\u001b[0m \u001b[0mflag\u001b[0m\u001b[1;33m:\u001b[0m\u001b[1;33m\u001b[0m\u001b[1;33m\u001b[0m\u001b[0m\n\u001b[1;32m----> 5\u001b[1;33m     \u001b[0mn\u001b[0m\u001b[1;33m=\u001b[0m\u001b[0mimput\u001b[0m\u001b[1;33m(\u001b[0m\u001b[1;34m'Type a number for an upper bound: '\u001b[0m\u001b[1;33m)\u001b[0m\u001b[1;33m\u001b[0m\u001b[1;33m\u001b[0m\u001b[0m\n\u001b[0m\u001b[0;32m      6\u001b[0m     \u001b[1;32mif\u001b[0m \u001b[0mn\u001b[0m\u001b[1;33m.\u001b[0m\u001b[0misdigit\u001b[0m\u001b[1;33m(\u001b[0m\u001b[1;33m)\u001b[0m\u001b[1;33m:\u001b[0m\u001b[1;33m\u001b[0m\u001b[1;33m\u001b[0m\u001b[0m\n\u001b[0;32m      7\u001b[0m         \u001b[0mprint\u001b[0m\u001b[1;33m(\u001b[0m\u001b[1;34m'lets pray'\u001b[0m\u001b[1;33m)\u001b[0m\u001b[1;33m\u001b[0m\u001b[1;33m\u001b[0m\u001b[0m\n",
      "\u001b[1;31mNameError\u001b[0m: name 'imput' is not defined"
     ]
    }
   ],
   "source": [
    "## number guessing game\n",
    "import random\n",
    "flag=True\n",
    "while flag:\n",
    "    n=input('Type a number for an upper bound: ')\n",
    "    if n.isdigit():\n",
    "        print('lets play')\n",
    "        n=int()\n",
    "        flag=False\n",
    "    else:\n",
    "        print('invalid!!!')\n",
    "\n",
    "secret =random.randint(1,n)\n",
    "guess=none\n",
    "count=1\n",
    "while guess !=secret:\n",
    "    guess= input('please type a number between 1 and ' + str(n) + ': ')\n",
    "if guess. isdigit():\n",
    "    guess=int(guess)\n",
    "if guess ==secret:\n",
    "    print(\"you are correct!\")\n",
    "else:\n",
    "    print('please try again')\n",
    "    count+=1\n",
    "    print('it took you', count, 'guesses' )"
   ]
  },
  {
   "cell_type": "code",
   "execution_count": 11,
   "metadata": {},
   "outputs": [
    {
     "output_type": "error",
     "ename": "SyntaxError",
     "evalue": "invalid syntax (<ipython-input-11-944c16362ddd>, line 23)",
     "traceback": [
      "\u001b[1;36m  File \u001b[1;32m\"<ipython-input-11-944c16362ddd>\"\u001b[1;36m, line \u001b[1;32m23\u001b[0m\n\u001b[1;33m    print(password)\u001b[0m\n\u001b[1;37m    ^\u001b[0m\n\u001b[1;31mSyntaxError\u001b[0m\u001b[1;31m:\u001b[0m invalid syntax\n"
     ]
    }
   ],
   "source": [
    "import random\n",
    "uppercase_letters=(\"ABCDEFGHIJKLMNOPQRSTUVWXYZ\")\n",
    "lowercase_letters=uppercase_letters.lower()\n",
    "digits='0123456789'\n",
    "symbols=\"@#$%^&*(){}[]|\\\\?//\"\n",
    "upper,lower,num,syms=True,True,True,True\n",
    "\n",
    "all=\"\"\n",
    "\n",
    "if upper:\n",
    "    all +=uppercase_letters\n",
    "if lower:\n",
    "    all +=lowercase_letters\n",
    "if nums:\n",
    "    all +=digits\n",
    "if syms:\n",
    "    all+=symbols\n",
    "length=20\n",
    "amount=10\n",
    "\n",
    "for x in range(amount):\n",
    "    password=\"\".join(random.sample(all,length)\n",
    "    print(password)\n",
    "\n",
    "       \n",
    "\n",
    "    \n",
    "\n"
   ]
  },
  {
   "cell_type": "code",
   "execution_count": 15,
   "metadata": {},
   "outputs": [
    {
     "output_type": "stream",
     "name": "stdout",
     "text": [
      "norm\n"
     ]
    }
   ],
   "source": [
    "\n",
    "word='import os/n'\n",
    "paswad=word[-1:0:-3]\n",
    "paswad\n",
    "print(paswad)\n"
   ]
  },
  {
   "cell_type": "code",
   "execution_count": 7,
   "metadata": {},
   "outputs": [
    {
     "output_type": "stream",
     "name": "stdout",
     "text": [
      "my 2 drums am sisters family\n"
     ]
    }
   ],
   "source": [
    "passage=('my name is nick, i am 2 years old. I love playing drums and listening to music.currently i am in grade 2.I have 2 sisters and 1 brother in my family')\n",
    "passage\n",
    "words=passage.split()##splits all the words in the passage\n",
    "words\n",
    "len(words)#31 words\n",
    "broken=words[0:31:6] #prints every 2nd word in the whole passage\n",
    "broken_str=' '.join(broken)##removes all the commas,in split function\n",
    "print(broken_str)\n"
   ]
  },
  {
   "cell_type": "code",
   "execution_count": 32,
   "metadata": {},
   "outputs": [
    {
     "output_type": "execute_result",
     "data": {
      "text/plain": [
       "['chapter', 'datascool', 'ken uni', 'data science dojo', 'morinnga']"
      ]
     },
     "metadata": {},
     "execution_count": 32
    }
   ],
   "source": [
    "a=['chapter','datascool','ken uni']\n",
    "b=['data science dojo','morinnga']\n",
    "a.extend(b)\n",
    "a"
   ]
  },
  {
   "cell_type": "code",
   "execution_count": 30,
   "metadata": {},
   "outputs": [
    {
     "output_type": "stream",
     "name": "stdout",
     "text": [
      "['apple', 'banana', 'cherry', 'mango', 'pineapple', 'papaya']\n"
     ]
    }
   ],
   "source": []
  },
  {
   "cell_type": "code",
   "execution_count": null,
   "metadata": {},
   "outputs": [],
   "source": []
  }
 ]
}